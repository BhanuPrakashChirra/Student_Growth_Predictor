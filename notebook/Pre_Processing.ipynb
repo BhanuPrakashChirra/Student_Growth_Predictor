{
 "cells": [
  {
   "cell_type": "markdown",
   "id": "ae4342f5",
   "metadata": {},
   "source": [
    "# Step 1: Load Dataset\n",
    "Load the CSV dataset into a pandas DataFrame.\n"
   ]
  },
  {
   "cell_type": "code",
   "execution_count": 5,
   "id": "bf2bb602",
   "metadata": {},
   "outputs": [
    {
     "data": {
      "text/html": [
       "<div>\n",
       "<style scoped>\n",
       "    .dataframe tbody tr th:only-of-type {\n",
       "        vertical-align: middle;\n",
       "    }\n",
       "\n",
       "    .dataframe tbody tr th {\n",
       "        vertical-align: top;\n",
       "    }\n",
       "\n",
       "    .dataframe thead th {\n",
       "        text-align: right;\n",
       "    }\n",
       "</style>\n",
       "<table border=\"1\" class=\"dataframe\">\n",
       "  <thead>\n",
       "    <tr style=\"text-align: right;\">\n",
       "      <th></th>\n",
       "      <th>StudentID</th>\n",
       "      <th>Age</th>\n",
       "      <th>Gender</th>\n",
       "      <th>SocioeconomicStatus</th>\n",
       "      <th>Grades</th>\n",
       "      <th>Attendance</th>\n",
       "      <th>TimeSpentOnHomework</th>\n",
       "      <th>ClassParticipation</th>\n",
       "      <th>AcademicPerformanceStatus</th>\n",
       "    </tr>\n",
       "  </thead>\n",
       "  <tbody>\n",
       "    <tr>\n",
       "      <th>0</th>\n",
       "      <td>S0001</td>\n",
       "      <td>21</td>\n",
       "      <td>Female</td>\n",
       "      <td>High</td>\n",
       "      <td>73.821849</td>\n",
       "      <td>99.578045</td>\n",
       "      <td>3.153141</td>\n",
       "      <td>Medium</td>\n",
       "      <td>Pass</td>\n",
       "    </tr>\n",
       "    <tr>\n",
       "      <th>1</th>\n",
       "      <td>S0002</td>\n",
       "      <td>18</td>\n",
       "      <td>Female</td>\n",
       "      <td>Low</td>\n",
       "      <td>61.301450</td>\n",
       "      <td>95.580772</td>\n",
       "      <td>3.160019</td>\n",
       "      <td>Medium</td>\n",
       "      <td>Pass</td>\n",
       "    </tr>\n",
       "    <tr>\n",
       "      <th>2</th>\n",
       "      <td>S0003</td>\n",
       "      <td>19</td>\n",
       "      <td>Female</td>\n",
       "      <td>Low</td>\n",
       "      <td>82.023802</td>\n",
       "      <td>74.858691</td>\n",
       "      <td>1.594093</td>\n",
       "      <td>Low</td>\n",
       "      <td>Pass</td>\n",
       "    </tr>\n",
       "    <tr>\n",
       "      <th>3</th>\n",
       "      <td>S0004</td>\n",
       "      <td>21</td>\n",
       "      <td>Male</td>\n",
       "      <td>Low</td>\n",
       "      <td>98.949056</td>\n",
       "      <td>67.806661</td>\n",
       "      <td>1.937389</td>\n",
       "      <td>Medium</td>\n",
       "      <td>Pass</td>\n",
       "    </tr>\n",
       "    <tr>\n",
       "      <th>4</th>\n",
       "      <td>S0005</td>\n",
       "      <td>17</td>\n",
       "      <td>Female</td>\n",
       "      <td>Middle</td>\n",
       "      <td>80.174655</td>\n",
       "      <td>79.575701</td>\n",
       "      <td>1.233916</td>\n",
       "      <td>High</td>\n",
       "      <td>Pass</td>\n",
       "    </tr>\n",
       "  </tbody>\n",
       "</table>\n",
       "</div>"
      ],
      "text/plain": [
       "  StudentID  Age  Gender SocioeconomicStatus     Grades  Attendance  \\\n",
       "0     S0001   21  Female                High  73.821849   99.578045   \n",
       "1     S0002   18  Female                 Low  61.301450   95.580772   \n",
       "2     S0003   19  Female                 Low  82.023802   74.858691   \n",
       "3     S0004   21    Male                 Low  98.949056   67.806661   \n",
       "4     S0005   17  Female              Middle  80.174655   79.575701   \n",
       "\n",
       "   TimeSpentOnHomework ClassParticipation AcademicPerformanceStatus  \n",
       "0             3.153141             Medium                      Pass  \n",
       "1             3.160019             Medium                      Pass  \n",
       "2             1.594093                Low                      Pass  \n",
       "3             1.937389             Medium                      Pass  \n",
       "4             1.233916               High                      Pass  "
      ]
     },
     "execution_count": 5,
     "metadata": {},
     "output_type": "execute_result"
    }
   ],
   "source": [
    "import pandas as pd\n",
    "\n",
    "df = pd.read_csv(r\"C:\\Users\\bhanu\\Desktop\\Student\\student_performance_data.csv\")\n",
    "df.head()\n"
   ]
  },
  {
   "cell_type": "markdown",
   "id": "9dc978dd",
   "metadata": {},
   "source": [
    "# Step 2: Check Dataset Shape and Info\n",
    "Understand the size and data types of the dataset.\n"
   ]
  },
  {
   "cell_type": "code",
   "execution_count": 6,
   "id": "34708f46",
   "metadata": {},
   "outputs": [
    {
     "name": "stdout",
     "output_type": "stream",
     "text": [
      "Dataset shape: (1000, 9)\n",
      "<class 'pandas.core.frame.DataFrame'>\n",
      "RangeIndex: 1000 entries, 0 to 999\n",
      "Data columns (total 9 columns):\n",
      " #   Column                     Non-Null Count  Dtype  \n",
      "---  ------                     --------------  -----  \n",
      " 0   StudentID                  1000 non-null   object \n",
      " 1   Age                        1000 non-null   int64  \n",
      " 2   Gender                     1000 non-null   object \n",
      " 3   SocioeconomicStatus        1000 non-null   object \n",
      " 4   Grades                     1000 non-null   float64\n",
      " 5   Attendance                 1000 non-null   float64\n",
      " 6   TimeSpentOnHomework        1000 non-null   float64\n",
      " 7   ClassParticipation         1000 non-null   object \n",
      " 8   AcademicPerformanceStatus  1000 non-null   object \n",
      "dtypes: float64(3), int64(1), object(5)\n",
      "memory usage: 70.4+ KB\n"
     ]
    }
   ],
   "source": [
    "print(\"Dataset shape:\", df.shape)\n",
    "df.info()\n"
   ]
  },
  {
   "cell_type": "markdown",
   "id": "17dcf20a",
   "metadata": {},
   "source": [
    "# Step 3: Check for Missing Values\n",
    "Verify if any columns have missing data.\n"
   ]
  },
  {
   "cell_type": "code",
   "execution_count": 7,
   "id": "6c965e55",
   "metadata": {},
   "outputs": [
    {
     "data": {
      "text/plain": [
       "StudentID                    0\n",
       "Age                          0\n",
       "Gender                       0\n",
       "SocioeconomicStatus          0\n",
       "Grades                       0\n",
       "Attendance                   0\n",
       "TimeSpentOnHomework          0\n",
       "ClassParticipation           0\n",
       "AcademicPerformanceStatus    0\n",
       "dtype: int64"
      ]
     },
     "execution_count": 7,
     "metadata": {},
     "output_type": "execute_result"
    }
   ],
   "source": [
    "df.isnull().sum()\n"
   ]
  },
  {
   "cell_type": "markdown",
   "id": "2150112f",
   "metadata": {},
   "source": [
    "# Step 4: Summary Statistics of Numerical Features\n",
    "Get a statistical summary for numerical columns.\n"
   ]
  },
  {
   "cell_type": "code",
   "execution_count": 8,
   "id": "c30980a0",
   "metadata": {},
   "outputs": [
    {
     "data": {
      "text/html": [
       "<div>\n",
       "<style scoped>\n",
       "    .dataframe tbody tr th:only-of-type {\n",
       "        vertical-align: middle;\n",
       "    }\n",
       "\n",
       "    .dataframe tbody tr th {\n",
       "        vertical-align: top;\n",
       "    }\n",
       "\n",
       "    .dataframe thead th {\n",
       "        text-align: right;\n",
       "    }\n",
       "</style>\n",
       "<table border=\"1\" class=\"dataframe\">\n",
       "  <thead>\n",
       "    <tr style=\"text-align: right;\">\n",
       "      <th></th>\n",
       "      <th>Age</th>\n",
       "      <th>Grades</th>\n",
       "      <th>Attendance</th>\n",
       "      <th>TimeSpentOnHomework</th>\n",
       "    </tr>\n",
       "  </thead>\n",
       "  <tbody>\n",
       "    <tr>\n",
       "      <th>count</th>\n",
       "      <td>1000.0000</td>\n",
       "      <td>1000.000000</td>\n",
       "      <td>1000.000000</td>\n",
       "      <td>1000.000000</td>\n",
       "    </tr>\n",
       "    <tr>\n",
       "      <th>mean</th>\n",
       "      <td>17.9600</td>\n",
       "      <td>74.892793</td>\n",
       "      <td>79.448395</td>\n",
       "      <td>2.245859</td>\n",
       "    </tr>\n",
       "    <tr>\n",
       "      <th>std</th>\n",
       "      <td>2.0036</td>\n",
       "      <td>14.428974</td>\n",
       "      <td>11.417765</td>\n",
       "      <td>1.009563</td>\n",
       "    </tr>\n",
       "    <tr>\n",
       "      <th>min</th>\n",
       "      <td>15.0000</td>\n",
       "      <td>50.000582</td>\n",
       "      <td>60.001229</td>\n",
       "      <td>0.500795</td>\n",
       "    </tr>\n",
       "    <tr>\n",
       "      <th>25%</th>\n",
       "      <td>16.0000</td>\n",
       "      <td>62.442623</td>\n",
       "      <td>69.451976</td>\n",
       "      <td>1.400813</td>\n",
       "    </tr>\n",
       "    <tr>\n",
       "      <th>50%</th>\n",
       "      <td>18.0000</td>\n",
       "      <td>75.155411</td>\n",
       "      <td>79.329503</td>\n",
       "      <td>2.191778</td>\n",
       "    </tr>\n",
       "    <tr>\n",
       "      <th>75%</th>\n",
       "      <td>20.0000</td>\n",
       "      <td>87.201111</td>\n",
       "      <td>89.137688</td>\n",
       "      <td>3.131317</td>\n",
       "    </tr>\n",
       "    <tr>\n",
       "      <th>max</th>\n",
       "      <td>21.0000</td>\n",
       "      <td>99.944631</td>\n",
       "      <td>99.982308</td>\n",
       "      <td>3.995775</td>\n",
       "    </tr>\n",
       "  </tbody>\n",
       "</table>\n",
       "</div>"
      ],
      "text/plain": [
       "             Age       Grades   Attendance  TimeSpentOnHomework\n",
       "count  1000.0000  1000.000000  1000.000000          1000.000000\n",
       "mean     17.9600    74.892793    79.448395             2.245859\n",
       "std       2.0036    14.428974    11.417765             1.009563\n",
       "min      15.0000    50.000582    60.001229             0.500795\n",
       "25%      16.0000    62.442623    69.451976             1.400813\n",
       "50%      18.0000    75.155411    79.329503             2.191778\n",
       "75%      20.0000    87.201111    89.137688             3.131317\n",
       "max      21.0000    99.944631    99.982308             3.995775"
      ]
     },
     "execution_count": 8,
     "metadata": {},
     "output_type": "execute_result"
    }
   ],
   "source": [
    "df.describe()\n"
   ]
  },
  {
   "cell_type": "markdown",
   "id": "ddc15d99",
   "metadata": {},
   "source": [
    "# Step 5: Encoding Categorical Variables\n",
    "Encode categorical columns into numeric values using Label Encoding:\n",
    "- Gender\n",
    "- SocioeconomicStatus\n",
    "- ClassParticipation\n",
    "- AcademicPerformanceStatus (target)\n"
   ]
  },
  {
   "cell_type": "code",
   "execution_count": 11,
   "id": "d6c85a8d",
   "metadata": {},
   "outputs": [
    {
     "data": {
      "text/html": [
       "<div>\n",
       "<style scoped>\n",
       "    .dataframe tbody tr th:only-of-type {\n",
       "        vertical-align: middle;\n",
       "    }\n",
       "\n",
       "    .dataframe tbody tr th {\n",
       "        vertical-align: top;\n",
       "    }\n",
       "\n",
       "    .dataframe thead th {\n",
       "        text-align: right;\n",
       "    }\n",
       "</style>\n",
       "<table border=\"1\" class=\"dataframe\">\n",
       "  <thead>\n",
       "    <tr style=\"text-align: right;\">\n",
       "      <th></th>\n",
       "      <th>StudentID</th>\n",
       "      <th>Age</th>\n",
       "      <th>Gender</th>\n",
       "      <th>SocioeconomicStatus</th>\n",
       "      <th>Grades</th>\n",
       "      <th>Attendance</th>\n",
       "      <th>TimeSpentOnHomework</th>\n",
       "      <th>ClassParticipation</th>\n",
       "      <th>AcademicPerformanceStatus</th>\n",
       "    </tr>\n",
       "  </thead>\n",
       "  <tbody>\n",
       "    <tr>\n",
       "      <th>0</th>\n",
       "      <td>S0001</td>\n",
       "      <td>21</td>\n",
       "      <td>0</td>\n",
       "      <td>0</td>\n",
       "      <td>73.821849</td>\n",
       "      <td>99.578045</td>\n",
       "      <td>3.153141</td>\n",
       "      <td>2</td>\n",
       "      <td>1</td>\n",
       "    </tr>\n",
       "    <tr>\n",
       "      <th>1</th>\n",
       "      <td>S0002</td>\n",
       "      <td>18</td>\n",
       "      <td>0</td>\n",
       "      <td>1</td>\n",
       "      <td>61.301450</td>\n",
       "      <td>95.580772</td>\n",
       "      <td>3.160019</td>\n",
       "      <td>2</td>\n",
       "      <td>1</td>\n",
       "    </tr>\n",
       "    <tr>\n",
       "      <th>2</th>\n",
       "      <td>S0003</td>\n",
       "      <td>19</td>\n",
       "      <td>0</td>\n",
       "      <td>1</td>\n",
       "      <td>82.023802</td>\n",
       "      <td>74.858691</td>\n",
       "      <td>1.594093</td>\n",
       "      <td>1</td>\n",
       "      <td>1</td>\n",
       "    </tr>\n",
       "    <tr>\n",
       "      <th>3</th>\n",
       "      <td>S0004</td>\n",
       "      <td>21</td>\n",
       "      <td>1</td>\n",
       "      <td>1</td>\n",
       "      <td>98.949056</td>\n",
       "      <td>67.806661</td>\n",
       "      <td>1.937389</td>\n",
       "      <td>2</td>\n",
       "      <td>1</td>\n",
       "    </tr>\n",
       "    <tr>\n",
       "      <th>4</th>\n",
       "      <td>S0005</td>\n",
       "      <td>17</td>\n",
       "      <td>0</td>\n",
       "      <td>2</td>\n",
       "      <td>80.174655</td>\n",
       "      <td>79.575701</td>\n",
       "      <td>1.233916</td>\n",
       "      <td>0</td>\n",
       "      <td>1</td>\n",
       "    </tr>\n",
       "  </tbody>\n",
       "</table>\n",
       "</div>"
      ],
      "text/plain": [
       "  StudentID  Age  Gender  SocioeconomicStatus     Grades  Attendance  \\\n",
       "0     S0001   21       0                    0  73.821849   99.578045   \n",
       "1     S0002   18       0                    1  61.301450   95.580772   \n",
       "2     S0003   19       0                    1  82.023802   74.858691   \n",
       "3     S0004   21       1                    1  98.949056   67.806661   \n",
       "4     S0005   17       0                    2  80.174655   79.575701   \n",
       "\n",
       "   TimeSpentOnHomework  ClassParticipation  AcademicPerformanceStatus  \n",
       "0             3.153141                   2                          1  \n",
       "1             3.160019                   2                          1  \n",
       "2             1.594093                   1                          1  \n",
       "3             1.937389                   2                          1  \n",
       "4             1.233916                   0                          1  "
      ]
     },
     "execution_count": 11,
     "metadata": {},
     "output_type": "execute_result"
    }
   ],
   "source": [
    "from sklearn.preprocessing import LabelEncoder\n",
    "\n",
    "categorical_cols = ['Gender', 'SocioeconomicStatus', 'ClassParticipation', 'AcademicPerformanceStatus']\n",
    "label_encoders = {}\n",
    "\n",
    "for col in categorical_cols:\n",
    "    le = LabelEncoder()\n",
    "    df[col] = le.fit_transform(df[col])\n",
    "    label_encoders[col] = le\n",
    "\n",
    "df.head()\n"
   ]
  },
  {
   "cell_type": "markdown",
   "id": "2ce7359c",
   "metadata": {},
   "source": [
    "# Step 6: Drop Unnecessary Columns\n",
    "Remove the 'StudentID' column as it is a unique identifier and does not contribute to the prediction.\n"
   ]
  },
  {
   "cell_type": "code",
   "execution_count": 12,
   "id": "46ec4f95",
   "metadata": {},
   "outputs": [],
   "source": [
    "df.drop(columns=['StudentID'], inplace=True)\n"
   ]
  },
  {
   "cell_type": "markdown",
   "id": "42200709",
   "metadata": {},
   "source": [
    "# Step 7: Split Features and Target Variable\n",
    "Separate independent features (X) and dependent target (y).\n"
   ]
  },
  {
   "cell_type": "code",
   "execution_count": 13,
   "id": "db2ad7ea",
   "metadata": {},
   "outputs": [],
   "source": [
    "X = df.drop('AcademicPerformanceStatus', axis=1)\n",
    "y = df['AcademicPerformanceStatus']\n"
   ]
  },
  {
   "cell_type": "markdown",
   "id": "6072a64e",
   "metadata": {},
   "source": [
    "# Step 8: Split Dataset into Training and Test Sets\n",
    "Split data into training and testing sets (80%-20%) with stratification to preserve class distribution.\n"
   ]
  },
  {
   "cell_type": "code",
   "execution_count": 14,
   "id": "8276a9bc",
   "metadata": {},
   "outputs": [],
   "source": [
    "from sklearn.model_selection import train_test_split\n",
    "\n",
    "X_train, X_test, y_train, y_test = train_test_split(\n",
    "    X, y, test_size=0.2, random_state=42, stratify=y)\n"
   ]
  },
  {
   "cell_type": "markdown",
   "id": "fda18293",
   "metadata": {},
   "source": [
    "# Step 9: Scale Numerical Features\n",
    "Scale features using StandardScaler to standardize the range of independent variables.\n"
   ]
  },
  {
   "cell_type": "code",
   "execution_count": 16,
   "id": "142d1e92",
   "metadata": {},
   "outputs": [],
   "source": [
    "from sklearn.preprocessing import StandardScaler\n",
    "\n",
    "scaler = StandardScaler()\n",
    "X_train_scaled = scaler.fit_transform(X_train)\n",
    "X_test_scaled = scaler.transform(X_test)\n"
   ]
  }
 ],
 "metadata": {
  "kernelspec": {
   "display_name": "venv",
   "language": "python",
   "name": "python3"
  },
  "language_info": {
   "codemirror_mode": {
    "name": "ipython",
    "version": 3
   },
   "file_extension": ".py",
   "mimetype": "text/x-python",
   "name": "python",
   "nbconvert_exporter": "python",
   "pygments_lexer": "ipython3",
   "version": "3.11.0"
  }
 },
 "nbformat": 4,
 "nbformat_minor": 5
}
